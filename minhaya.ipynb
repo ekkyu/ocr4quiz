{
 "cells": [
  {
   "cell_type": "code",
   "execution_count": null,
   "metadata": {},
   "outputs": [],
   "source": [
    "from PIL import Image\n",
    "import sys\n",
    "import os\n",
    "import pyocr\n",
    "import pyocr.builders\n",
    "import pyautogui\n",
    "import time\n",
    "import numpy as np\n",
    "import pandas as pd"
   ]
  },
  {
   "cell_type": "code",
   "execution_count": 2,
   "metadata": {},
   "outputs": [],
   "source": [
    "#クイズ過去問を読み込み\n",
    "df = pd.read_csv('minhaya_qanda.csv')\n",
    "df2 = pd.read_csv('minhaya_qanda2.csv')"
   ]
  },
  {
   "cell_type": "code",
   "execution_count": null,
   "metadata": {},
   "outputs": [],
   "source": [
    "TESSDATA_PATH = '/Users/ekkyu/gd/tesseract/tessdata'\n",
    "os.environ[\"TESSDATA_PREFIX\"] = TESSDATA_PATH\n",
    "\n",
    "tools = pyocr.get_available_tools()\n",
    "tool = tools[0]\n",
    "\n",
    "def take_screenshot():\n",
    "    screenshot = pyautogui.screenshot(region = (100, 370, 1100, 500))\n",
    "    screenshot.save('quiz_sentence.png')\n",
    "\n",
    "def transcribe_text():\n",
    "    txt = tool.image_to_string(\n",
    "        Image.open(\"quiz_sentence.png\"),\n",
    "        lang=\"jpn\",\n",
    "        builder=pyocr.builders.TextBuilder(tesseract_layout=6)\n",
    "    )\n",
    "\n",
    "    txt = ''.join(txt.splitlines())\n",
    "    txt = txt.lstrip(\"Q. \")\n",
    "    return txt\n",
    "\n",
    "if __name__ == \"__main__\":\n",
    "    for i in range(1000):\n",
    "        take_screenshot()\n",
    "        ques_by_ocr = transcribe_text()\n",
    "#         print(ques_by_ocr)\n",
    "        \n",
    "        if len(ques_by_ocr) > 1:\n",
    "            try:\n",
    "                if len(df['ans'][df['ques'].str.contains(ques_by_ocr)]) == 1:\n",
    "                    print(df['ans'][df['ques'].str.contains(ques_by_ocr)].iat[-1])\n",
    "                    os.system(\"printf ''\\a\")\n",
    "                elif len(df2['ans'][df2['ques'].str.contains(ques_by_ocr)]) == 1:\n",
    "                    print(df2['ans'][df2['ques'].str.contains(ques_by_ocr)].iat[-1])\n",
    "                    os.system(\"printf ''\\a\")\n",
    "            except:\n",
    "                pass\n",
    "            \n",
    "        time.sleep(00.1)"
   ]
  }
 ],
 "metadata": {
  "kernelspec": {
   "display_name": "Python 3",
   "language": "python",
   "name": "python3"
  },
  "language_info": {
   "codemirror_mode": {
    "name": "ipython",
    "version": 3
   },
   "file_extension": ".py",
   "mimetype": "text/x-python",
   "name": "python",
   "nbconvert_exporter": "python",
   "pygments_lexer": "ipython3",
   "version": "3.6.8"
  }
 },
 "nbformat": 4,
 "nbformat_minor": 2
}
