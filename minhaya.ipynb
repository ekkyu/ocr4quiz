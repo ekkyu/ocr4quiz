{
 "cells": [
  {
   "cell_type": "code",
   "execution_count": 10,
   "metadata": {},
   "outputs": [
    {
     "name": "stdout",
     "output_type": "stream",
     "text": [
      "Q. 漢字では「貝独楽」と書く、大正時代頃から高度経済成長期にかけて日本の子\n",
      "Q. 漢字では「貝独楽」と書く、大正時代頃から高度経済成長期にかけて日本の子\n",
      "Q. 漢字では「貝独楽」と書く、大正時代頃から高度経済成長期にかけて日本の子\n",
      "Q. 漢字では「貝独楽」と書く、大正時代頃から高度経済成長期にかけて日本の子\n",
      "Q. 漢字では「貝独楽」と書く、大正時代頃から高度経済成長期にかけて日本の子\n",
      "Q. 漢字では「貝独楽」と書く、大正時代頃から高度経済成長期にかけて日本の子\n",
      "Q. 漢字では「貝独楽」と書く、大正時代頃から高度経済成長期にかけて日本の子\n",
      "Q. 漢字では「貝独楽」と書く、大正時代頃から高度経済成長期にかけて日本の子\n",
      "Q. 漢字では「貝独楽」と書く、大正時代頃から高度経済成長期にかけて日本の子\n",
      "Q. 漢字では「貝独楽」と書く、大正時代頃から高度経済成長期にかけて日本の子\n"
     ]
    }
   ],
   "source": [
    "from PIL import Image\n",
    "import sys\n",
    "import os\n",
    "import pyocr\n",
    "import pyocr.builders\n",
    "import pyautogui\n",
    "import time\n",
    "\n",
    "TESSDATA_PATH = '/Users/****/gd/tesseract/tessdata'\n",
    "os.environ[\"TESSDATA_PREFIX\"] = TESSDATA_PATH\n",
    "\n",
    "tools = pyocr.get_available_tools()\n",
    "tool = tools[0]\n",
    "\n",
    "def take_screenshot():\n",
    "    screenshot = pyautogui.screenshot(region = (100, 370, 1100, 500))\n",
    "    screenshot.save('quiz_sentence.png')\n",
    "\n",
    "def transcribe_text():\n",
    "    txt = tool.image_to_string(\n",
    "        Image.open(\"quiz_sentence.png\"),\n",
    "        lang=\"jpn\",\n",
    "        builder=pyocr.builders.TextBuilder(tesseract_layout=6)\n",
    "    )\n",
    "\n",
    "    txt = ''.join(txt.splitlines())\n",
    "    return txt\n",
    "\n",
    "if __name__ == \"__main__\":\n",
    "    for i in range(10):\n",
    "        take_screenshot()\n",
    "        print(transcribe_text())\n",
    "        time.sleep(00.1)"
   ]
  }
 ],
 "metadata": {
  "kernelspec": {
   "display_name": "Python 3",
   "language": "python",
   "name": "python3"
  },
  "language_info": {
   "codemirror_mode": {
    "name": "ipython",
    "version": 3
   },
   "file_extension": ".py",
   "mimetype": "text/x-python",
   "name": "python",
   "nbconvert_exporter": "python",
   "pygments_lexer": "ipython3",
   "version": "3.6.8"
  }
 },
 "nbformat": 4,
 "nbformat_minor": 2
}
