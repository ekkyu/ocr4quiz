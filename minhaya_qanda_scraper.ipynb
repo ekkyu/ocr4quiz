{
 "cells": [
  {
   "cell_type": "code",
   "execution_count": 1,
   "metadata": {},
   "outputs": [],
   "source": [
    "# -*- coding: utf-8 -*-\n",
    "\n",
    "import re\n",
    "import json\n",
    "import requests\n",
    "import pprint\n",
    "import numpy as np\n",
    "import pandas as pd\n",
    "from bs4 import BeautifulSoup\n",
    "from lxml import html"
   ]
  },
  {
   "cell_type": "code",
   "execution_count": null,
   "metadata": {},
   "outputs": [],
   "source": [
    "#【みんはや】「みんなで早押しクイズ」の過去問題集700問以上（難しい問題多め）【復習用、一覧】\n",
    "url = \"https://raityo.com/minhaya/\"\n",
    "response = requests.get(url)\n",
    "\n",
    "soup = BeautifulSoup(response.content, \"html.parser\")\n",
    "soup_p = soup.find_all(\"p\")\n",
    "\n",
    "qanda = soup_p[8:]\n",
    "\n",
    "ques = []\n",
    "ans = []\n",
    "\n",
    "for qanda_ in qanda:\n",
    "    qanda_ = str(qanda_)\n",
    "    if qanda_.startswith('<p>・問題'):\n",
    "        qanda_ = qanda_.lstrip(\"</p>・\")\n",
    "        qanda_ = qanda_.rstrip(\"</p>\")\n",
    "        ques.append(qanda_)\n",
    "    elif qanda_.startswith('<p class=\"has-text-color has-pale-pink-color\">・'):\n",
    "        qanda_ = qanda_.lstrip('<p class=\"has-text-color has-pale-pink-color\">・')\n",
    "        qanda_ = qanda_.rstrip(\"</p>\")\n",
    "        ans.append(qanda_)\n",
    "        \n",
    "df = pd.DataFrame({'ques': ques, 'ans': ans})\n",
    "df.head()\n",
    "df.to_csv('minhaya_qanda.csv', mode='a', header=False)"
   ]
  },
  {
   "cell_type": "code",
   "execution_count": null,
   "metadata": {},
   "outputs": [],
   "source": [
    "#【みんはや】「みんなで早押しクイズ」の過去問題集\n",
    "# https://raityo.com/min-c-3/\n",
    "# https://raityo.com/min-s-2/\n",
    "# https://raityo.com/min-c-2/\n",
    "# https://raityo.com/min-b-2/\n",
    "# https://raityo.com/min-a-2/\n",
    "# https://raityo.com/min-s/\n",
    "# https://raityo.com/min-b/\n",
    "# https://raityo.com/min-c/\n",
    "# https://raityo.com/min-a/\n",
    "    \n",
    "url = \"https://raityo.com/standard/\"\n",
    "response = requests.get(url)\n",
    "\n",
    "soup = BeautifulSoup(response.content, \"html.parser\")\n",
    "lxml_coverted_data = html.fromstring(str(soup))\n",
    "\n",
    "ques = lxml_coverted_data.xpath('//*[@id=\"main-contents\"]/section/article/div[4]/div/text()')\n",
    "ques = [i.strip() for i in ques]\n",
    "ques = [i for i in ques if i is not \"\"]\n",
    "\n",
    "div = soup.find_all('div', class_='toggle-content') \n",
    "ans = [i.text for i in div]\n",
    "\n",
    "df = pd.DataFrame({'ques': ques, 'ans': ans})\n",
    "print(len(df))\n",
    "df.head()\n",
    "df.to_csv('minhaya_qanda.csv', mode='a', header=False)"
   ]
  },
  {
   "cell_type": "code",
   "execution_count": null,
   "metadata": {},
   "outputs": [],
   "source": [
    "#以下URL未対応\n",
    "# https://raityo.com/geography-minhaya/\n",
    "# https://raityo.com/jh-minhaya/\n",
    "# https://raityo.com/science-minhaya/\n",
    "# https://raityo.com/standard/"
   ]
  }
 ],
 "metadata": {
  "kernelspec": {
   "display_name": "Python 3",
   "language": "python",
   "name": "python3"
  },
  "language_info": {
   "codemirror_mode": {
    "name": "ipython",
    "version": 3
   },
   "file_extension": ".py",
   "mimetype": "text/x-python",
   "name": "python",
   "nbconvert_exporter": "python",
   "pygments_lexer": "ipython3",
   "version": "3.6.8"
  }
 },
 "nbformat": 4,
 "nbformat_minor": 2
}
