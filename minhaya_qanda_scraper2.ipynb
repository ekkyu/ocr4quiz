{
 "cells": [
  {
   "cell_type": "code",
   "execution_count": null,
   "metadata": {},
   "outputs": [],
   "source": [
    "# -*- coding: utf-8 -*-\n",
    "\n",
    "import re\n",
    "import os\n",
    "import json\n",
    "import requests\n",
    "import pprint\n",
    "import numpy as np\n",
    "import pandas as pd\n",
    "from time import sleep\n",
    "from selenium import webdriver\n",
    "from selenium.webdriver.common.action_chains  import ActionChains\n",
    "from selenium.webdriver.common.keys import Keys"
   ]
  },
  {
   "cell_type": "code",
   "execution_count": null,
   "metadata": {},
   "outputs": [],
   "source": [
    "options = webdriver.ChromeOptions()\n",
    "options.add_argument('--no-sandbox')\n",
    "\n",
    "driver = webdriver.Chrome(executable_path='/usr/local/bin/chromedriver', options=options)\n",
    "action = ActionChains(driver)\n",
    "\n",
    "url = \"https://livequiz.work/minhaya1/\"\n",
    "driver.get(url)\n",
    "\n",
    "driver.maximize_window()\n",
    "sleep(5)\n",
    "\n",
    "for i in range(11):    \n",
    "    sleep(5)\n",
    "\n",
    "    html_source = driver.page_source\n",
    "    # pprint.pprint(html_source)\n",
    "\n",
    "    ques_pattern = 'class=\"column-2\">(.*?)</td>'\n",
    "    ques = re.findall(ques_pattern, html_source, re.S)\n",
    "\n",
    "    ans_pattern = 'class=\"column-3\">(.*?)</td>'\n",
    "    ans = re.findall(ans_pattern, html_source, re.S)\n",
    "\n",
    "    ans2_pattern = 'class=\"column-4\">(.*?)</td>'\n",
    "    ans2 = re.findall(ans2_pattern, html_source, re.S)\n",
    "\n",
    "    df = pd.DataFrame({'ques': ques, 'ans': ans, 'ans2': ans2})\n",
    "    print(len(df))\n",
    "    df.to_csv('minhaya_qanda2.csv', mode='a', header=False)\n",
    "    os.system(\"printf ''\\a\")"
   ]
  },
  {
   "cell_type": "code",
   "execution_count": null,
   "metadata": {},
   "outputs": [],
   "source": [
    "#データ整形\n",
    "df2 = pd.read_csv('minhaya_qanda2.csv', names=('ques', 'ans', 'ans2'))\n",
    "df2.to_csv('minhaya_qanda2.csv')"
   ]
  }
 ],
 "metadata": {
  "kernelspec": {
   "display_name": "Python 3",
   "language": "python",
   "name": "python3"
  },
  "language_info": {
   "codemirror_mode": {
    "name": "ipython",
    "version": 3
   },
   "file_extension": ".py",
   "mimetype": "text/x-python",
   "name": "python",
   "nbconvert_exporter": "python",
   "pygments_lexer": "ipython3",
   "version": "3.6.8"
  }
 },
 "nbformat": 4,
 "nbformat_minor": 2
}
